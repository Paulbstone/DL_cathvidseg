{
 "cells": [
  {
   "cell_type": "code",
   "execution_count": 2,
   "metadata": {},
   "outputs": [],
   "source": [
    "# Breast Cancer classifier Machine Learning Code\n",
    "# Author - Paul Stone\n",
    "# Institution - Wright State University\n",
    "# Created 29/11/2018\n",
    "\n",
    "# import libraries etc. \n",
    "\n",
    "import pandas as pd\n",
    "import numpy as np\n",
    "from sklearn import metrics\n",
    "from sklearn.linear_model import LogisticRegression\n",
    "from sklearn.feature_selection import RFE\n",
    "from sklearn.feature_selection import SelectKBest, chi2\n",
    "from sklearn.model_selection import train_test_split, cross_val_score\n",
    "from sklearn.metrics import accuracy_score, classification_report, precision_score, recall_score\n",
    "from sklearn.metrics import confusion_matrix, precision_recall_curve, roc_curve, auc, log_loss\n",
    "import matplotlib.pyplot as plt\n",
    "import scipy.stats as stats\n",
    "import seaborn as sns\n",
    "import warnings"
   ]
  },
  {
   "cell_type": "code",
   "execution_count": 3,
   "metadata": {},
   "outputs": [],
   "source": [
    "#  set up variables \n",
    "\n",
    "rfe_selections = []\n",
    "rfecv_selections = []\n",
    "chi2_selections = []\n",
    "all_selections = []\n",
    "rfe_accs = [0]\n",
    "rfecv_accs = [0]\n",
    "chi2_accs = [0]\n",
    "all_accs = [0]\n",
    "Mod_count = []\n",
    "Acc_count = []\n",
    "\n",
    "warnings.filterwarnings(\"ignore\", category=FutureWarning)"
   ]
  },
  {
   "cell_type": "code",
   "execution_count": 4,
   "metadata": {},
   "outputs": [
    {
     "name": "stdout",
     "output_type": "stream",
     "text": [
      "imported data has 286 rows and 10 columns\n",
      "there were no rows removed due to missing or null data in the input file\n",
      "9 row(s) removed due to inconsistent data\n",
      "in total 9 row(s) were removed from the data\n",
      "3.15 % of the data was removed from the Machine Learning dataset\n",
      "Data set for use in machine learning algorithm has 277 rows and 10 columns\n"
     ]
    }
   ],
   "source": [
    "# *********************************************read data from .csv******************************************************\n",
    "\n",
    "\n",
    "######################### note that this code has extra content from the class, primarily to nofify if there are data removed etc. \n",
    "\n",
    "\n",
    "\n",
    "BCdata = np.genfromtxt('BCdata.csv', delimiter=',', dtype=str, missing_values=\"no_data\")                                # read in .csv and assign \"No_data\" to missing values\n",
    "\n",
    "print(\"imported data has\", BCdata.shape[0], \"rows and\", BCdata.shape[1], \"columns\")                                     # MSG confirm shape of input data\n",
    "\n",
    "BCdata_missing = BCdata[np.any(BCdata == \"no_data\", axis=1)]                                                            #remove missing values\n",
    "BCdata_c = BCdata[~np.any(BCdata == \"no_data\", axis=1)]\n",
    "\n",
    "if BCdata_missing.shape[0] == 0:\n",
    "    print(\"there were no rows removed due to missing or null data in the input file\")                                   # MSG confirm if any data was removed\n",
    "else:\n",
    "    print(BCdata_missing.shape[0], \"row(s) removed due to missing data\")\n",
    "\n",
    "BCdata_c = BCdata_c[(BCdata_c[:, 0] != \"no-recurrence-events\") | (BCdata_c[:, 0] != \"recurrence-events\")]               #Remove rows wtih data that is not a positive match for known data\n",
    "\n",
    "BCdata_c = BCdata_c[(BCdata_c[:, 1] == \"70-79\") | (BCdata_c[:, 1] == \"60-69\") | (BCdata_c[:, 1] == \"50-59\")\n",
    "    | (BCdata_c[:, 1] == \"40-49\") | (BCdata_c[:, 1] == \"30-39\") | (BCdata_c[:, 1] == \"20-29\")]\n",
    "\n",
    "BCdata_c = BCdata_c[(BCdata_c[:, 2] == \"premeno\") | (BCdata_c[:, 2] == \"ge40\") | (BCdata_c[:, 2] == \"lt40\")]\n",
    "\n",
    "BCdata_c = BCdata_c[(BCdata_c[:, 8] == \"right_low\") | (BCdata_c[:, 8] == \"right_up\") | (BCdata_c[:, 8] == \"left_low\")\n",
    "    | (BCdata_c[:, 8] == \"left_up\") | (BCdata_c[:, 8] == \"central\")]\n",
    "\n",
    "BCdata_c = BCdata_c[(BCdata_c[:, 5] == \"no\") | (BCdata_c[:, 5] == \"yes\")]\n",
    "\n",
    "if BCdata_missing.shape[0]==BCdata_c.shape[0]:                                                                          # MSG confirm second stage of data removal\n",
    "    print(\"there were no inconsistent values present in the input file\")\n",
    "else:\n",
    "    print(((BCdata.shape[0]-BCdata_missing.shape[0])-BCdata_c.shape[0]), \"row(s) removed due to inconsistent data\")\n",
    "\n",
    "print(\"in total\", (BCdata.shape[0]-BCdata_c.shape[0]), \"row(s) were removed from the data\")                             # MSG total lines removed and %of data removed\n",
    "Pct_rem = round(100-((100/BCdata.shape[0])*BCdata_c.shape[0]),2)\n",
    "print(Pct_rem, \"% of the data was removed from the Machine Learning dataset\")\n",
    "print(\"Data set for use in machine learning algorithm has\", BCdata_c.shape[0], \"rows and\", BCdata_c.shape[1], \"columns\")"
   ]
  },
  {
   "cell_type": "code",
   "execution_count": 5,
   "metadata": {},
   "outputs": [
    {
     "name": "stdout",
     "output_type": "stream",
     "text": [
      "Training data has 208 rows and 10 columns\n",
      "test 69 rows and 10 columns\n"
     ]
    }
   ],
   "source": [
    "# ********************split data into test and training sets 75 for training, 25 for test*******************************\n",
    "\n",
    "data_rows = BCdata_c.shape[0]                                                                                           # determine rows in data and test/train split\n",
    "training_rows = round(data_rows*0.75)  # this is where the 75/25 split is identified\n",
    "test_rows = data_rows-training_rows\n",
    "\n",
    "np.random.seed(1234)                                                                                                    # seed RNG\n",
    "np.random.shuffle(BCdata_c)                                                                                             # randomize order of dataset to ensure no bias in Training/test sets\n",
    "training, test = BCdata_c[:training_rows, :], BCdata_c[training_rows:, :]\n",
    "\n",
    "print(\"Training data has\", training.shape[0], \"rows and\", training.shape[1], \"columns\")                                 # MSG confirm test/training dataset shape\n",
    "print(\"test\", test.shape[0], \"rows and\", test.shape[1], \"columns\")\n",
    "\n",
    "data_headers = [\"RecEvs\", \"Age\", \"MenoP\", \"TumorSz\", \"LnodeInv\", \"NodeCap\", \"Malignancy\", \"BreastSide\", \"BreastLoc\",    # add headers to train and test data\n",
    "                \"Radiation\"]\n",
    "\n",
    "test_h = np.insert(test,0,data_headers,0)\n",
    "training_h = np.insert(training,0,data_headers,0)\n",
    "\n",
    "new_col_train = np.zeros((training_rows+1,1))                                                                           # add dummy column to allow indexing overwrite\n",
    "new_col_test = np.zeros((test_rows+1,1))\n",
    "training_hi = np.append(new_col_train, training_h, 1)\n",
    "test_hi = np.append(new_col_test, test_h, 1)\n",
    "\n",
    "train_data_p = pd.DataFrame(data=training_hi[1:,1:], index=(np.array(range(1,training_rows+1))), columns=training_hi    # convert Numpy Arrays to Pandas dataframes to enable dummy data production\n",
    "                            [0, 1:])\n",
    "test_data_p = pd.DataFrame(data=test_hi[1:,1:], index=(np.array(range(1,test_rows+1))), columns=test_hi[0,1:])"
   ]
  },
  {
   "cell_type": "code",
   "execution_count": 6,
   "metadata": {},
   "outputs": [],
   "source": [
    "# *************************************create dummy variables to enable logistic Regression*****************************\n",
    "\n",
    "train_data_p['RecEvs'] = train_data_p['RecEvs'].map({'recurrence-events': 1, 'no-recurrence-events': 0})                # Convert nominal recurrence to binary\n",
    "train_dummy_RecEvs = train_data_p[\"RecEvs\"]\n",
    "\n",
    "train_data_p['Age'] = train_data_p['Age'].map({'20-29': 20, '30-39': 30, '40-49': 40, '50-59': 50, '60-69': 60,         # convert nominal age to integer for logistic regression\n",
    "                                               '70-79': 70})\n",
    "train_dummy_age = train_data_p[\"Age\"]                                                                                   # write new age dataframe\n",
    "\n",
    "train_dummy_MenoP = pd.get_dummies(train_data_p[\"MenoP\"])\n",
    "\n",
    "train_data_p['TumorSz'] = train_data_p['TumorSz'].map({'0-4': 2, '5-9': 7, '10-14': 12, '15-19': 17, '20-24': 22,       # convert nominal tumor size to continous integer\n",
    "                                                       '25-29': 27, '30-34': 32, '35-39': 37, '40-44': 42, '45-49': 47,\n",
    "                                                       '50-54': 52})\n",
    "train_dummy_tumor = train_data_p[\"TumorSz\"]\n",
    "\n",
    "train_data_p['LnodeInv'] = train_data_p['LnodeInv'].map({'0-2': 1, '3-5': 4, '6-8': 7, '9-11':8, '12-14':13, '15-17': 16# convert nominal node inv variable to continous integer\n",
    "                                                        , '18-20': 19, '21-23': 22, '24-26': 25})\n",
    "train_dummy_Lnode = train_data_p[\"LnodeInv\"]\n",
    "\n",
    "train_data_p['NodeCap'] = train_data_p['NodeCap'].map({'yes': 1, 'no': 0})                                              # convert nominal age to integer for logistic regression\n",
    "train_dummy_ncap = train_data_p[\"NodeCap\"]\n",
    "\n",
    "train_dummy_malig = train_data_p[\"Malignancy\"]                                                                          #keep ordinal malignancy values\n",
    "\n",
    "train_data_p['BreastSide'] = train_data_p['BreastSide'].map({'right': 1, 'left': 0})                                    # Convert nominal breastside to binary\n",
    "train_dummy_BSide = train_data_p[\"BreastSide\"]\n",
    "\n",
    "train_dummy_Bloc = pd.get_dummies(train_data_p[\"BreastLoc\"])                                                            # Convert nominal breast location to multiple binary variables\n",
    "\n",
    "train_data_p['Radiation'] = train_data_p['Radiation'].map({'yes': 1, 'no': 0})                                          # Convert nominal radiation to binary\n",
    "train_dummy_rad = train_data_p[\"Radiation\"]\n",
    "\n",
    "final_train = pd.concat([train_dummy_RecEvs, train_dummy_age, train_dummy_MenoP, train_dummy_tumor, train_dummy_Lnode,  # combine data into one dataframe\n",
    "                        train_dummy_ncap, train_dummy_malig, train_dummy_BSide, train_dummy_Bloc , train_dummy_rad],\n",
    "                        axis=1)"
   ]
  },
  {
   "cell_type": "code",
   "execution_count": 7,
   "metadata": {},
   "outputs": [],
   "source": [
    "# ******************************************test data file generation **************************************************\n",
    "\n",
    "test_data_p['RecEvs'] = test_data_p['RecEvs'].map({'recurrence-events': 1, 'no-recurrence-events': 0})                  # Convert nominal recurrence to binary\n",
    "test_dummy_RecEvs = test_data_p[\"RecEvs\"]\n",
    "\n",
    "test_data_p['Age'] = test_data_p['Age'].map({'20-29': 20, '30-39': 30, '40-49': 40, '50-59': 50, '60-69': 60,           # convert nominal age to integer for logistic regression\n",
    "                                               '70-79': 70})\n",
    "test_dummy_age = test_data_p[\"Age\"]                                                                                     # write new age dataframe\n",
    "\n",
    "test_dummy_MenoP = pd.get_dummies(test_data_p[\"MenoP\"])\n",
    "\n",
    "test_data_p['TumorSz'] = test_data_p['TumorSz'].map({'0-4': 2, '5-9': 7, '10-14': 12, '15-19': 17, '20-24': 22,         # convert nominal tumor size to continous integer\n",
    "                                                       '25-29': 27, '30-34': 32, '35-39': 37, '40-44': 42, '45-49': 47,\n",
    "                                                       '50-54': 52})\n",
    "test_dummy_tumor = test_data_p[\"TumorSz\"]\n",
    "\n",
    "test_data_p['LnodeInv'] = test_data_p['LnodeInv'].map({'0-2': 1, '3-5': 4, '6-8': 7, '9-11':8, '12-14':13, '15-17': 16  # convert nominal node inv variable to continous integer\n",
    "                                                        , '18-20': 19, '21-23': 22, '24-26': 25})\n",
    "test_dummy_Lnode = test_data_p[\"LnodeInv\"]\n",
    "\n",
    "test_data_p['NodeCap'] = test_data_p['NodeCap'].map({'yes': 1, 'no': 0})                                                # convert nominal age to integer for logistic regression\n",
    "test_dummy_ncap = test_data_p[\"NodeCap\"]\n",
    "\n",
    "test_dummy_malig = test_data_p[\"Malignancy\"]                                                                            #keep ordinal malignancy values\n",
    "\n",
    "test_data_p['BreastSide'] = test_data_p['BreastSide'].map({'right': 1, 'left': 0})                                      # Convert nominal breastside to binary\n",
    "test_dummy_BSide = test_data_p[\"BreastSide\"]\n",
    "\n",
    "test_dummy_Bloc = pd.get_dummies(test_data_p[\"BreastLoc\"])                                                              # Convert nominal breast location to multiple binary variables\n",
    "\n",
    "test_data_p['Radiation'] = test_data_p['Radiation'].map({'yes': 1, 'no': 0})                                            # Convert nominal radiation to binary\n",
    "test_dummy_rad = test_data_p[\"Radiation\"]\n",
    "\n",
    "final_test = pd.concat([test_dummy_RecEvs, test_dummy_age, test_dummy_MenoP, test_dummy_tumor, test_dummy_Lnode,\n",
    "                        test_dummy_ncap, test_dummy_malig, test_dummy_BSide, test_dummy_Bloc, test_dummy_rad], axis=1)"
   ]
  },
  {
   "cell_type": "code",
   "execution_count": 8,
   "metadata": {},
   "outputs": [],
   "source": [
    "########################################## set up headers and define the variables for the model and the output. ######################################\n",
    "\n",
    "\n",
    "final_data_header = final_train[:0]\n",
    "final_data_header_test = final_test[:0]\n",
    "\n",
    "cols_for_sel = [\"Age\", \"BreastSide\", \"Radiation\", \"Malignancy\", \"TumorSz\", \"LnodeInv\", \"NodeCap\", \"ge40\", \"premeno\",\n",
    "                \"left_up\", \"left_low\", \"central\", \"right_up\", \"right_low\"]                                              #define variables for input to ranking/feature selection\n",
    "Xtrain = final_train[cols_for_sel]    #Xtrain is the default for the variables you want to include in your model\n",
    "Ytrain = final_train[\"RecEvs\"]        #Ytrain is the default for your output variable or variable of interest for your hypothesis"
   ]
  },
  {
   "cell_type": "markdown",
   "metadata": {},
   "source": [
    "The next 3 sections are different options for feature selection within the model. I did all three and compared the results, you don't necessarily need to do that or if you like, you can find more options to conduct in this section"
   ]
  },
  {
   "cell_type": "code",
   "execution_count": 9,
   "metadata": {},
   "outputs": [],
   "source": [
    "# ************************use recursive feature elimination (RFE) to define significant variables***********************\n",
    "\n",
    "Statmodel = LogisticRegression()\n",
    "rfe = RFE(estimator=Statmodel, n_features_to_select=10, step=1)                                                          # Run estimator for logistic regression\n",
    "rfe = rfe.fit(Xtrain,Ytrain)\n",
    "\n",
    "RFE_head = (list(Xtrain.columns[rfe.support_]))"
   ]
  },
  {
   "cell_type": "code",
   "execution_count": 10,
   "metadata": {},
   "outputs": [],
   "source": [
    "# ************************************Feature Selection via RFE Cross validation ***************************************\n",
    "\n",
    "from sklearn.feature_selection import RFECV\n",
    "\n",
    "rfecv = RFECV(estimator=LogisticRegression(), step=1, cv=2, scoring='accuracy')                                         # Create the RFE object and compute a cross-validated score.\n",
    "rfecv.fit(Xtrain, Ytrain)\n",
    "\n",
    "#print(\"Optimal number of features: %d\" % rfecv.n_features_)                                                             #MSG number of features selected by RFECV method\n",
    "#print('Selected features: %s' % list(Xtrain.columns[rfecv.support_]))\n",
    "\n",
    "RFECV_head = (list(Xtrain.columns[rfecv.support_]))"
   ]
  },
  {
   "cell_type": "code",
   "execution_count": 11,
   "metadata": {},
   "outputs": [],
   "source": [
    "# ******************************************Feature selection using Chi2************************************************\n",
    "\n",
    "Chi2_test, P_val = chi2(Xtrain,Ytrain)\n",
    "\n",
    "Chi2_head = []\n",
    "for i in range(len(P_val)):                                                                                             # select significant features from Chi2\n",
    "    if P_val[i] <=0.05:\n",
    "\n",
    "        Add_header = Xtrain.columns[i]                                                                                  # build Chi2 header\n",
    "        Chi2_head.append(Add_header)"
   ]
  },
  {
   "cell_type": "code",
   "execution_count": 12,
   "metadata": {},
   "outputs": [],
   "source": [
    "# *************************************************Select most accurate model based on n runs*************************** \n",
    "\n",
    "#                      determine which of the models is most accurate. \n",
    "\n",
    "all =[\"Age\", \"BreastSide\", \"Radiation\", \"Malignancy\", \"TumorSz\", \"LnodeInv\", \"NodeCap\", \"ge40\", \"premeno\",\n",
    "                \"left_up\", \"left_low\", \"central\", \"right_up\", \"right_low\"]\n",
    "Accuracies_Comp =[]\n",
    "AUC_comp =[]\n",
    "Model_selector=[RFE_head,RFECV_head,Chi2_head,all]\n",
    "Model_names = [\"RFE_head\",\"RFECV_head\",\"Chi2_head\",\"all\"]\n",
    "\n",
    "for i in range(len(Model_selector)):                                                                                    # interate through each model to find optimal solution\n",
    "\n",
    "    Xtrain_t = final_train[Model_selector[i]]\n",
    "    Ytrain_t = final_train[\"RecEvs\"]\n",
    "    Xtest_t = final_test[Model_selector[i]]\n",
    "    Ytest_t = final_test[\"RecEvs\"]\n",
    "\n",
    "\n",
    "    logreg_t = LogisticRegression()                                                                                 # check classification scores of logistic regression\n",
    "    logreg_t.fit(Xtrain_t, Ytrain_t)                                                                                # train Logistic Regression modelt\n",
    "    y_prediction_t = logreg_t.predict(Xtest_t)                                                                            # test Logistio Refression model on test data\n",
    "    y_prediction_prob_t = logreg_t.predict_proba(Xtest_t)[:, 1]\n",
    "    [false_pos_t, true_pos_t, threshold_t] = roc_curve(Ytest_t, y_prediction_prob_t)\n",
    "\n",
    "    Accuracy = (accuracy_score(Ytest_t, y_prediction_t))\n",
    "    AreaUnderCurve = (auc(false_pos_t, true_pos_t))\n",
    "\n",
    "    Accuracies_Comp.append(Accuracy)\n",
    "    AUC_comp.append(AreaUnderCurve)\n",
    "\n",
    "    if Model_names[i]== \"RFE_head\":\n",
    "       rfe_selections.append(Model_names[i])\n",
    "       rfe_accs.append(Accuracies_Comp[i])\n",
    "    elif Model_names[i] == \"RFECV_head\":\n",
    "         rfecv_selections.append(Model_names[i])\n",
    "         rfecv_accs.append(Accuracies_Comp[i])\n",
    "    elif Model_names[i] == \"Chi2_head\":\n",
    "         chi2_selections.append(Model_names[i])\n",
    "         chi2_accs.append(Accuracies_Comp[i])\n",
    "    else:\n",
    "         all_selections.append(Model_names[i])\n",
    "         all_accs.append(Accuracies_Comp[i])"
   ]
  },
  {
   "cell_type": "code",
   "execution_count": 13,
   "metadata": {},
   "outputs": [],
   "source": [
    "# this code iterates through the 4 models and determines which was the most accurate. \n",
    "\n",
    "counter = 1\n",
    "for i in range(2,4):\n",
    "\n",
    "    Acctest = Accuracies_Comp[counter]\n",
    "    Acctest2 = Accuracies_Comp[i]\n",
    "    if Acctest2 > Acctest:\n",
    "        counter = i\n",
    "\n",
    "    # print(\"model selected\", Model_names[counter])\n",
    "\n",
    "#    Mod_count.append(Model_names[counter])\n",
    "#    Acc_count.append(Accuracies_Comp[counter])\n",
    "\n",
    "Model_headers = Model_selector[counter]"
   ]
  },
  {
   "cell_type": "code",
   "execution_count": 14,
   "metadata": {},
   "outputs": [],
   "source": [
    "# **************************************calculate most accurate from runs\n",
    "print(\" \")\n",
    "print(\" \")\n",
    "print(rfe_accs[1], \" \", rfecv_accs[1], \" \", chi2_accs[1], \" \", all_accs[1])    # print the accuracies of the models\n",
    "print(\" \")\n",
    "print(\" \")"
   ]
  },
  {
   "cell_type": "code",
   "execution_count": 14,
   "metadata": {},
   "outputs": [],
   "source": [
    "# *****************************************Define XY for test data************************************************\n",
    "\n",
    "Xtrain_final = final_train[Model_headers]\n",
    "Ytrain_final = final_train[\"RecEvs\"]\n",
    "Xtest_final = final_test[Model_headers]\n",
    "Ytest_final = final_test[\"RecEvs\"]"
   ]
  },
  {
   "cell_type": "code",
   "execution_count": 14,
   "metadata": {},
   "outputs": [],
   "source": [
    "# ******************************************** test the chosen model against the test data\n",
    "logreg = LogisticRegression()                                                                                           # check classification scores of logistic regression\n",
    "logreg.fit(Xtrain_final, Ytrain_final)                                                                                  # train Logistic Regression modelt\n",
    "y_prediction = logreg.predict(Xtest_final)                                                                              # test Logistio Regression model on test data\n",
    "y_prediction_prob = logreg.predict_proba(Xtest_final)[:, 1]\n",
    "[false_pos, true_pos, threshold] = roc_curve(Ytest_final, y_prediction_prob)\n",
    "                                                                                                                        # MSG print results of accuracy of test v train\n",
    "print(logreg.__class__.__name__+\" accuracy is %2.3f\" % accuracy_score(Ytest_final, y_prediction))\n",
    "print(logreg.__class__.__name__+\" log_loss is %2.3f\" % log_loss(Ytest_final, y_prediction_prob))\n",
    "print(logreg.__class__.__name__+\" auc is %2.3f\" % auc(false_pos, true_pos))\n",
    "print(\" \")\n",
    "\n",
    "index = np.min(np.where(true_pos > 0.6)) # index of the first threshold for which the sensitivity > 0.95                calculate optimal specificity/ index"
   ]
  },
  {
   "cell_type": "code",
   "execution_count": 14,
   "metadata": {},
   "outputs": [
    {
     "name": "stdout",
     "output_type": "stream",
     "text": [
      " \n",
      " \n",
      "0.7536231884057971   0.782608695652174   0.7971014492753623   0.782608695652174\n",
      " \n",
      " \n",
      "LogisticRegression accuracy is 0.797\n",
      "LogisticRegression log_loss is 0.535\n",
      "LogisticRegression auc is 0.695\n",
      " \n"
     ]
    },
    {
     "data": {
      "image/png": "[encoded data removed]",
      "text/plain": [
       "<Figure size 576x576 with 1 Axes>"
      ]
     },
     "metadata": {
      "needs_background": "light"
     },
     "output_type": "display_data"
    },
    {
     "data": {
      "image/png": "[encoded data removed]",
      "text/plain": [
       "<Figure size 576x576 with 2 Axes>"
      ]
     },
     "metadata": {
      "needs_background": "light"
     },
     "output_type": "display_data"
    },
    {
     "data": {
      "image/png": "[encoded data removed]",
      "text/plain": [
       "<Figure size 432x288 with 1 Axes>"
      ]
     },
     "metadata": {
      "needs_background": "light"
     },
     "output_type": "display_data"
    },
    {
     "name": "stdout",
     "output_type": "stream",
     "text": [
      "Using a threshold of 0.324 guarantees a sensitivity of 0.619 and a specificity of 0.688, i.e. a false positive rate of 31.25%.\n",
      "the number of significant features in the model were 5\n",
      "the features used in the model were\n",
      "number 5 most significant feature Radiation P value 0.2538618842734654\n",
      "number 4 most significant feature Malignancy P value 0.5806292808900639\n",
      "number 3 most significant feature TumorSz P value 0.008323460201116451\n",
      "number 2 most significant feature LnodeInv P value 0.013222711234413988\n",
      "number 1 most significant feature NodeCap P value 7.639840151240013e-06\n",
      " \n",
      "the performance of the model on the test data is as follows:\n",
      "the model gives 8 true positives\n",
      "the model gives 47 true negatives\n",
      "the model gives 1 type one errors\n",
      "the model gives 13 type two errors\n",
      "the sensitivity of the model is 0.11594202898550725\n",
      "the specificity of the model is 0.6811594202898551\n",
      "the type one error rate is 0.014492753623188406\n",
      "the type one error rate is 0.18840579710144928\n",
      "LogisticRegression accuracy is 0.797\n",
      "LogisticRegression log_loss is 0.535\n",
      "LogisticRegression auc is 0.695\n",
      "Optimal number of features: %d 5\n"
     ]
    }
   ],
   "source": [
    "# *********************************************create plots*************************************************************\n",
    "\n",
    "Models = [rfecv,rfe,Chi2_test,all]\n",
    "Opt_Model = Models[counter]\n",
    "\n",
    "plt.figure(figsize=(8,8))                                                                                               # Plot number of features VS. cross-validation scores\n",
    "plt.xlabel(\"Number of features selected\")\n",
    "plt.ylabel(\"Cross validation score (nb of correct classifications)\")\n",
    "plt.plot(range(1, len(rfecv.grid_scores_) + 1), rfecv.grid_scores_)\n",
    "plt.show()\n",
    "\n",
    "Xplot = final_train[Model_headers]\n",
    "\n",
    "plt.subplots(figsize=(8, 8))\n",
    "sns.heatmap(Xplot.corr(), annot=True, cmap=\"RdYlGn\")\n",
    "plt.show()\n",
    "\n",
    "# ***************************************************plot ROC curce*****************************************************\n",
    "plt.figure()\n",
    "plt.plot(false_pos, true_pos, color='coral', label='ROC curve (area = %0.3f)' % auc(false_pos, true_pos))\n",
    "plt.plot([0, 1], [0, 1], 'k--')\n",
    "plt.plot([0,false_pos[index]], [true_pos[index],true_pos[index]], 'k--', color='blue')\n",
    "plt.plot([false_pos[index],false_pos[index]], [0,true_pos[index]], 'k--', color='blue')\n",
    "plt.xlim([0.0, 1.0])\n",
    "plt.ylim([0.0, 1.05])\n",
    "plt.xlabel('False Positive Rate', fontsize=14)\n",
    "plt.ylabel('True Positive Rate', fontsize=14)\n",
    "plt.title('Receiver operating characteristic (ROC) curve')\n",
    "plt.legend(loc=\"lower right\")\n",
    "plt.show()\n",
    "\n",
    "print(\"Using a threshold of %.3f \" % threshold[index] + \"guarantees a sensitivity of %.3f \" % true_pos[index] +\n",
    "      \"and a specificity of %.3f\" % (1-false_pos[index]) +\n",
    "      \", i.e. a false positive rate of %.2f%%.\" % (np.array(false_pos[index])*100))\n",
    "\n",
    "# ***********calculate all TruePos, TrueNeg, FalsePos, FalseNeg for Test data based on prediction **********************\n",
    "\n",
    "TP = 0\n",
    "FP = 0\n",
    "TN = 0\n",
    "FN = 0\n",
    "\n",
    "for i in range(len(y_prediction)):\n",
    "        if Ytest_final[i+1]==y_prediction[i]==1:\n",
    "           TP += 1\n",
    "        if y_prediction[i]==1 and Ytest_final[i+1]!=y_prediction[i]:\n",
    "           FP += 1\n",
    "        if Ytest_final[i+1]==y_prediction[i]==0:\n",
    "           TN += 1\n",
    "        if y_prediction[i]==0 and Ytest_final[i+1]!=y_prediction[i]:\n",
    "           FN += 1\n",
    "\n",
    "tot_features = (len(Chi2_head))\n",
    "print(\"the number of significant features in the model were\",tot_features)\n",
    "print(\"the features used in the model were\")\n",
    "\n",
    "\n",
    "for i in range(len(Chi2_head)):\n",
    "\n",
    "    print(\"number\", (tot_features-i), \"most significant feature\", Chi2_head[i], \"P value\",\n",
    "          P_val[i])\n",
    "\n",
    "print(\" \")\n",
    "print(\"the performance of the model on the test data is as follows:\")\n",
    "print(\"the model gives\", TP, \"true positives\")\n",
    "print(\"the model gives\", TN, \"true negatives\")\n",
    "print(\"the model gives\", FP, \"type one errors\")\n",
    "print(\"the model gives\", FN, \"type two errors\")\n",
    "\n",
    "print(\"the sensitivity of the model is\", TP/(len(y_prediction)))\n",
    "print(\"the specificity of the model is\", TN/(len(y_prediction)))\n",
    "print(\"the type one error rate is\", FP/(len(y_prediction)))\n",
    "print(\"the type one error rate is\", FN/(len(y_prediction)))\n",
    "\n",
    "print(logreg.__class__.__name__+\" accuracy is %2.3f\" % accuracy_score(Ytest_final, y_prediction))\n",
    "print(logreg.__class__.__name__+\" log_loss is %2.3f\" % log_loss(Ytest_final, y_prediction_prob))\n",
    "print(logreg.__class__.__name__+\" auc is %2.3f\" % auc(false_pos, true_pos))\n",
    "print(\"Optimal number of features: %d\", tot_features)"
   ]
  },
  {
   "cell_type": "code",
   "execution_count": null,
   "metadata": {},
   "outputs": [],
   "source": []
  }
 ],
 "metadata": {
  "kernelspec": {
   "display_name": "Python 3",
   "language": "python",
   "name": "python3"
  },
  "language_info": {
   "codemirror_mode": {
    "name": "ipython",
    "version": 3
   },
   "file_extension": ".py",
   "mimetype": "text/x-python",
   "name": "python",
   "nbconvert_exporter": "python",
   "pygments_lexer": "ipython3",
   "version": "3.7.1"
  }
 },
 "nbformat": 4,
 "nbformat_minor": 2
}
